{
 "cells": [
  {
   "cell_type": "code",
   "execution_count": 2,
   "id": "e34bdf22",
   "metadata": {
    "scrolled": true
   },
   "outputs": [
    {
     "name": "stdout",
     "output_type": "stream",
     "text": [
      "Collecting chess\n",
      "  Downloading chess-1.9.4-py3-none-any.whl (149 kB)\n",
      "     -------------------------------------- 149.1/149.1 kB 3.0 MB/s eta 0:00:00\n",
      "Installing collected packages: chess\n",
      "Successfully installed chess-1.9.4\n"
     ]
    }
   ],
   "source": [
    "# Sources\n",
    "# https://python-chess.readthedocs.io/en/latest/\n",
    "# https://github.com/rogerfitz/tutorials/tree/master/python_chess"
   ]
  },
  {
   "cell_type": "code",
   "execution_count": 4,
   "id": "f69ef206",
   "metadata": {},
   "outputs": [
    {
     "name": "stdout",
     "output_type": "stream",
     "text": [
      "Requirement already satisfied: chess in c:\\users\\gupta\\anaconda3\\lib\\site-packages (1.9.4)\n",
      "Collecting Stockfish\n",
      "  Downloading stockfish-3.28.0-py3-none-any.whl (13 kB)\n",
      "Installing collected packages: Stockfish\n",
      "Successfully installed Stockfish-3.28.0\n"
     ]
    }
   ],
   "source": [
    "!pip install chess\n",
    "!pip install Stockfish"
   ]
  },
  {
   "cell_type": "code",
   "execution_count": 102,
   "id": "461e1cea",
   "metadata": {},
   "outputs": [],
   "source": [
    "import chess.pgn\n",
    "import pandas as pd\n",
    "pd.options.display.max_columns=999\n",
    "import datetime\n",
    "import tqdm\n",
    "import zipfile\n",
    "import re"
   ]
  },
  {
   "cell_type": "code",
   "execution_count": 103,
   "id": "5cf981c4",
   "metadata": {
    "scrolled": false
   },
   "outputs": [],
   "source": [
    "from stockfish import Stockfish\n",
    "import chess\n",
    "import chess.engine\n",
    "import chess.svg\n",
    "import chess.pgn\n",
    "import re\n",
    "import numpy as np\n",
    "import pandas as pd\n",
    "from statsmodels.distributions.empirical_distribution import ECDF\n",
    "from scipy import stats\n",
    "import matplotlib.pyplot as plt\n",
    "import pickle\n",
    "%matplotlib inline\n",
    "\n"
   ]
  },
  {
   "cell_type": "code",
   "execution_count": 104,
   "id": "f222ecfd",
   "metadata": {},
   "outputs": [],
   "source": [
    "# NUM_GAMES=2384\n",
    "# rows=[]\n",
    "\n",
    "# with open(f'data/carlsen_games.pgn') as pgn:\n",
    "#     for game in tqdm.tqdm(range(NUM_GAMES)):\n",
    "#         row={}\n",
    "#         game = chess.pgn.read_game(pgn)\n",
    "#         row['headers']=game.headers.__dict__\n",
    "#         row['moves']=[x.uci() for x in game.mainline_moves()]\n",
    "#         rows.append(row)\n",
    "# games=pd.DataFrame(rows)\n",
    "# games\n",
    "# games.to_csv(\"data/carlsen.csv\",index=False)\n"
   ]
  },
  {
   "cell_type": "code",
   "execution_count": null,
   "id": "03277444",
   "metadata": {},
   "outputs": [],
   "source": []
  },
  {
   "cell_type": "code",
   "execution_count": 105,
   "id": "6f6feb2d",
   "metadata": {},
   "outputs": [
    {
     "name": "stdout",
     "output_type": "stream",
     "text": [
      "Knight Position:  (6, 7)\n"
     ]
    }
   ],
   "source": [
    "def replace_numbers(string):\n",
    "    pattern = r'\\d'  # Matches any digit\n",
    "    result = re.sub(pattern, lambda match: 'X' * int(match.group()), string)\n",
    "    return result\n",
    "def get_piece_position(fen, piece):\n",
    "    # Split the FEN string into its components\n",
    "    fen_parts = fen.split(' ')\n",
    "    \n",
    "    # Extract the board position part of the FEN\n",
    "    board_fen = fen_parts[0]\n",
    "    \n",
    "    # Remove the slashes (/) to get a string of all the pieces\n",
    "    board_fen = board_fen.replace('/', '')\n",
    "    board_fen = replace_numbers(board_fen)    #Find the index of the knight (N) in the string\n",
    "    indices = []\n",
    "    for index, char in enumerate(board_fen):\n",
    "        if char == piece:\n",
    "            indices.append(index)\n",
    "            break\n",
    "            \n",
    "    # Calculate the row and column based on the index\n",
    "    try:\n",
    "        row = 7 - (indices[0] // 8)\n",
    "        column = indices[0] % 8\n",
    "        return row, column\n",
    "    except:\n",
    "        return -1, -1\n",
    "def magnus_white(curr_game):\n",
    "    if 'Black' in curr_game['headers'] and 'Carlsen, Magnus' in curr_game['headers']:\n",
    "        if curr_game['headers'].index('Black') < curr_game['headers'].index('Carlsen, Magnus'):\n",
    "            return False\n",
    "        else:\n",
    "            return True\n",
    "    else:\n",
    "        return True\n",
    "\n",
    "def save_list(list_save, file_path):\n",
    "    with open(file_path, 'wb') as file:\n",
    "        pickle.dump(list_save, file)\n",
    "\n",
    "def load_list(file_path):\n",
    "    with open(file_path, 'rb') as file:\n",
    "        chess_data = pickle.load(file)\n",
    "    return chess_data\n",
    "# Example usage\n",
    "fen = \"rnbqkbnr/pppppppN/8/8/8/8/PPNPPPPP/RBNQKBNR w KQkq - 0 1\"\n",
    "knight_position = get_piece_position(fen, \"N\")\n",
    "print(\"Knight Position: \", knight_position)"
   ]
  },
  {
   "cell_type": "code",
   "execution_count": 106,
   "id": "a96097d0",
   "metadata": {},
   "outputs": [
    {
     "data": {
      "text/html": [
       "<div>\n",
       "<style scoped>\n",
       "    .dataframe tbody tr th:only-of-type {\n",
       "        vertical-align: middle;\n",
       "    }\n",
       "\n",
       "    .dataframe tbody tr th {\n",
       "        vertical-align: top;\n",
       "    }\n",
       "\n",
       "    .dataframe thead th {\n",
       "        text-align: right;\n",
       "    }\n",
       "</style>\n",
       "<table border=\"1\" class=\"dataframe\">\n",
       "  <thead>\n",
       "    <tr style=\"text-align: right;\">\n",
       "      <th></th>\n",
       "      <th>headers</th>\n",
       "      <th>moves</th>\n",
       "    </tr>\n",
       "  </thead>\n",
       "  <tbody>\n",
       "    <tr>\n",
       "      <th>0</th>\n",
       "      <td>{'_tag_roster': {'Event': 'Bayern-chI Bank Hof...</td>\n",
       "      <td>[d2d4, g8f6, g1f3, d7d6, b1c3, g7g6, e2e4, f8g...</td>\n",
       "    </tr>\n",
       "    <tr>\n",
       "      <th>1</th>\n",
       "      <td>{'_tag_roster': {'Event': 'Bayern-chI Bank Hof...</td>\n",
       "      <td>[d2d4, d7d5, c1g5, h7h6, g5h4, c8f5, g1f3, b8d...</td>\n",
       "    </tr>\n",
       "    <tr>\n",
       "      <th>2</th>\n",
       "      <td>{'_tag_roster': {'Event': 'Bayern-chI Bank Hof...</td>\n",
       "      <td>[e2e4, e7e5, g1f3, b8c6, f1c4, g8f6, f3g5, d7d...</td>\n",
       "    </tr>\n",
       "    <tr>\n",
       "      <th>3</th>\n",
       "      <td>{'_tag_roster': {'Event': 'Nordic Cup-chT U18'...</td>\n",
       "      <td>[c2c4, g7g6, b1c3, f8g7, d2d4, d7d6, g2g3, b8d...</td>\n",
       "    </tr>\n",
       "    <tr>\n",
       "      <th>4</th>\n",
       "      <td>{'_tag_roster': {'Event': 'Nordic School-ch U1...</td>\n",
       "      <td>[e2e4, e7e5, g1f3, g8f6, f3e5, d7d6, e5f3, f6e...</td>\n",
       "    </tr>\n",
       "    <tr>\n",
       "      <th>...</th>\n",
       "      <td>...</td>\n",
       "      <td>...</td>\n",
       "    </tr>\n",
       "    <tr>\n",
       "      <th>2379</th>\n",
       "      <td>{'_tag_roster': {'Event': 'Douglas IoM op', 'S...</td>\n",
       "      <td>[e2e4, b8c6, g1f3, d7d6, d2d4, g8f6, d4d5, c6b...</td>\n",
       "    </tr>\n",
       "    <tr>\n",
       "      <th>2380</th>\n",
       "      <td>{'_tag_roster': {'Event': 'Douglas IoM op', 'S...</td>\n",
       "      <td>[e2e4, e7e5, g1f3, g8f6, f3e5, d7d6, e5f3, f6e...</td>\n",
       "    </tr>\n",
       "    <tr>\n",
       "      <th>2381</th>\n",
       "      <td>{'_tag_roster': {'Event': 'Douglas IoM op', 'S...</td>\n",
       "      <td>[g1f3, b7b6, e2e4, c8b7, b1c3, e7e6, d2d4, f8b...</td>\n",
       "    </tr>\n",
       "    <tr>\n",
       "      <th>2382</th>\n",
       "      <td>{'_tag_roster': {'Event': 'Douglas IoM op', 'S...</td>\n",
       "      <td>[g1f3, d7d5, g2g3, g7g6, f1g2, f8g7, e1g1, e7e...</td>\n",
       "    </tr>\n",
       "    <tr>\n",
       "      <th>2383</th>\n",
       "      <td>{'_tag_roster': {'Event': 'Douglas IoM op', 'S...</td>\n",
       "      <td>[e2e4, e7e5, g1f3, b8c6, f1b5, a7a6, b5a4, g8f...</td>\n",
       "    </tr>\n",
       "  </tbody>\n",
       "</table>\n",
       "<p>2384 rows × 2 columns</p>\n",
       "</div>"
      ],
      "text/plain": [
       "                                                headers  \\\n",
       "0     {'_tag_roster': {'Event': 'Bayern-chI Bank Hof...   \n",
       "1     {'_tag_roster': {'Event': 'Bayern-chI Bank Hof...   \n",
       "2     {'_tag_roster': {'Event': 'Bayern-chI Bank Hof...   \n",
       "3     {'_tag_roster': {'Event': 'Nordic Cup-chT U18'...   \n",
       "4     {'_tag_roster': {'Event': 'Nordic School-ch U1...   \n",
       "...                                                 ...   \n",
       "2379  {'_tag_roster': {'Event': 'Douglas IoM op', 'S...   \n",
       "2380  {'_tag_roster': {'Event': 'Douglas IoM op', 'S...   \n",
       "2381  {'_tag_roster': {'Event': 'Douglas IoM op', 'S...   \n",
       "2382  {'_tag_roster': {'Event': 'Douglas IoM op', 'S...   \n",
       "2383  {'_tag_roster': {'Event': 'Douglas IoM op', 'S...   \n",
       "\n",
       "                                                  moves  \n",
       "0     [d2d4, g8f6, g1f3, d7d6, b1c3, g7g6, e2e4, f8g...  \n",
       "1     [d2d4, d7d5, c1g5, h7h6, g5h4, c8f5, g1f3, b8d...  \n",
       "2     [e2e4, e7e5, g1f3, b8c6, f1c4, g8f6, f3g5, d7d...  \n",
       "3     [c2c4, g7g6, b1c3, f8g7, d2d4, d7d6, g2g3, b8d...  \n",
       "4     [e2e4, e7e5, g1f3, g8f6, f3e5, d7d6, e5f3, f6e...  \n",
       "...                                                 ...  \n",
       "2379  [e2e4, b8c6, g1f3, d7d6, d2d4, g8f6, d4d5, c6b...  \n",
       "2380  [e2e4, e7e5, g1f3, g8f6, f3e5, d7d6, e5f3, f6e...  \n",
       "2381  [g1f3, b7b6, e2e4, c8b7, b1c3, e7e6, d2d4, f8b...  \n",
       "2382  [g1f3, d7d5, g2g3, g7g6, f1g2, f8g7, e1g1, e7e...  \n",
       "2383  [e2e4, e7e5, g1f3, b8c6, f1b5, a7a6, b5a4, g8f...  \n",
       "\n",
       "[2384 rows x 2 columns]"
      ]
     },
     "execution_count": 106,
     "metadata": {},
     "output_type": "execute_result"
    }
   ],
   "source": [
    "games=pd.read_csv(\"data/carlsen.csv\")\n",
    "games['moves']=games['moves'].apply(lambda x: eval(x))\n",
    "#games['headers']=games['headers'].apply(lambda x: eval(x))#to dict\n",
    "games"
   ]
  },
  {
   "cell_type": "code",
   "execution_count": null,
   "id": "7314e986",
   "metadata": {},
   "outputs": [],
   "source": []
  },
  {
   "cell_type": "code",
   "execution_count": 43,
   "id": "84e84afc",
   "metadata": {
    "scrolled": false
   },
   "outputs": [
    {
     "data": {
      "text/plain": [
       "[0]"
      ]
     },
     "execution_count": 43,
     "metadata": {},
     "output_type": "execute_result"
    }
   ],
   "source": [
    "# df[a][b][c][d] = array of CPL of piece a at location (b, c) of color d\n",
    "#0 = knight, 1, a, white\n",
    "#df = np.zeros((2, 8, 8,2,1,), dtype=float)\n",
    "df = [[[[[0]] * 2] * 8] * 8] * 2\n",
    "#df\n",
    "# df = np.arange(256)\n",
    "# df = np.reshape(df, (2, 8, 8,2,1))\n",
    "df[0][0][0][0]\n",
    "df[1][7][7][1]"
   ]
  },
  {
   "cell_type": "code",
   "execution_count": null,
   "id": "a42d074c",
   "metadata": {
    "scrolled": false
   },
   "outputs": [],
   "source": []
  },
  {
   "cell_type": "code",
   "execution_count": 44,
   "id": "85f4980a",
   "metadata": {},
   "outputs": [],
   "source": [
    "engine = Stockfish(\"stockfish-windows-2022-x86-64-avx2.exe\")\n",
    "engine.set_depth(20)\n",
    "engine.set_skill_level(20)\n",
    "board=chess.Board()\n"
   ]
  },
  {
   "cell_type": "code",
   "execution_count": 30,
   "id": "98c9055f",
   "metadata": {},
   "outputs": [],
   "source": [
    "pieces = ['N', 'n', 'B', 'b']"
   ]
  },
  {
   "cell_type": "code",
   "execution_count": 94,
   "id": "22859a49",
   "metadata": {},
   "outputs": [],
   "source": [
    "df = [[[[[0] for _ in range(2)] for _ in range(8)] for _ in range(8)] for _ in range(2)]\n"
   ]
  },
  {
   "cell_type": "code",
   "execution_count": 32,
   "id": "11c74523",
   "metadata": {},
   "outputs": [],
   "source": [
    "df[1][7][7][1]"
   ]
  },
  {
   "cell_type": "code",
   "execution_count": null,
   "id": "e4938bd6",
   "metadata": {},
   "outputs": [],
   "source": [
    "for i in tqdm.tqdm(range(0, 2000)):\n",
    "    board=chess.Board()\n",
    "    curr_game = games.iloc[i]\n",
    "    print(curr_game['moves'][0])\n",
    "    for move_number, san in enumerate(curr_game['moves']):\n",
    "        move=board.push_san(san)\n",
    "        engine.set_fen_position(board.fen())\n",
    "        evaluation=engine.get_evaluation()\n",
    "        for index, piece in enumerate(pieces):\n",
    "            if(magnus_white(curr_game)):\n",
    "                if (piece == 'n' or piece == 'b'): \n",
    "                    continue\n",
    "            else:\n",
    "                if (piece == 'N' or piece == 'B'):\n",
    "                    continue\n",
    "            row, column = get_piece_position(board.fen(), piece)\n",
    "            print(board.fen())\n",
    "            #print(i, row, column)\n",
    "            if (row == -1):\n",
    "                continue\n",
    "            print(evaluation)\n",
    "            df[int(index / 2)][row][column][index % 2].append(evaluation['value'])\n",
    "            #print(df[int(index / 2)][row][column][index % 2])\n"
   ]
  },
  {
   "cell_type": "code",
   "execution_count": null,
   "id": "6b3e2cfa",
   "metadata": {
    "scrolled": false
   },
   "outputs": [],
   "source": [
    "save_list(df, 'data/carlsen_final.pkl')"
   ]
  },
  {
   "cell_type": "code",
   "execution_count": null,
   "id": "77e03ba9",
   "metadata": {
    "scrolled": false
   },
   "outputs": [],
   "source": []
  },
  {
   "cell_type": "code",
   "execution_count": null,
   "id": "8f44fd7d",
   "metadata": {},
   "outputs": [],
   "source": []
  },
  {
   "cell_type": "code",
   "execution_count": null,
   "id": "b2134397",
   "metadata": {},
   "outputs": [],
   "source": []
  },
  {
   "cell_type": "code",
   "execution_count": null,
   "id": "69852707",
   "metadata": {
    "scrolled": false
   },
   "outputs": [],
   "source": []
  },
  {
   "cell_type": "code",
   "execution_count": null,
   "id": "d83c85f4",
   "metadata": {
    "scrolled": false
   },
   "outputs": [],
   "source": []
  },
  {
   "cell_type": "code",
   "execution_count": 20,
   "id": "eca1d7e5",
   "metadata": {},
   "outputs": [],
   "source": []
  },
  {
   "cell_type": "code",
   "execution_count": 22,
   "id": "6162aaef",
   "metadata": {
    "scrolled": false
   },
   "outputs": [],
   "source": []
  },
  {
   "cell_type": "code",
   "execution_count": null,
   "id": "9f0dd71e",
   "metadata": {},
   "outputs": [],
   "source": []
  },
  {
   "cell_type": "code",
   "execution_count": 23,
   "id": "4cabebcb",
   "metadata": {},
   "outputs": [],
   "source": []
  },
  {
   "cell_type": "code",
   "execution_count": null,
   "id": "3b0f0993",
   "metadata": {},
   "outputs": [],
   "source": []
  },
  {
   "cell_type": "code",
   "execution_count": null,
   "id": "d88f41aa",
   "metadata": {},
   "outputs": [],
   "source": []
  }
 ],
 "metadata": {
  "kernelspec": {
   "display_name": "Python 3 (ipykernel)",
   "language": "python",
   "name": "python3"
  },
  "language_info": {
   "codemirror_mode": {
    "name": "ipython",
    "version": 3
   },
   "file_extension": ".py",
   "mimetype": "text/x-python",
   "name": "python",
   "nbconvert_exporter": "python",
   "pygments_lexer": "ipython3",
   "version": "3.9.12"
  }
 },
 "nbformat": 4,
 "nbformat_minor": 5
}
