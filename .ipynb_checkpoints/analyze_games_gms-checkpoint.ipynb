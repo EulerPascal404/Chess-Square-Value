{
 "cells": [
  {
   "cell_type": "code",
   "execution_count": 2,
   "id": "e34bdf22",
   "metadata": {
    "scrolled": true
   },
   "outputs": [
    {
     "name": "stdout",
     "output_type": "stream",
     "text": [
      "Collecting chess\n",
      "  Downloading chess-1.9.4-py3-none-any.whl (149 kB)\n",
      "     -------------------------------------- 149.1/149.1 kB 3.0 MB/s eta 0:00:00\n",
      "Installing collected packages: chess\n",
      "Successfully installed chess-1.9.4\n"
     ]
    }
   ],
   "source": [
    "# Sources\n",
    "# https://python-chess.readthedocs.io/en/latest/\n",
    "# https://github.com/rogerfitz/tutorials/tree/master/python_chess\n",
    "\n",
    "#Read:\n",
    "#https://onlinelibrary.wiley.com/doi/10.1002/asmb.2684"
   ]
  },
  {
   "cell_type": "code",
   "execution_count": 1,
   "id": "f69ef206",
   "metadata": {},
   "outputs": [
    {
     "name": "stdout",
     "output_type": "stream",
     "text": [
      "Collecting chess\n",
      "  Downloading chess-1.9.4-py3-none-any.whl (149 kB)\n",
      "                                              0.0/149.1 kB ? eta -:--:--\n",
      "     -------------------------------        122.9/149.1 kB 3.6 MB/s eta 0:00:01\n",
      "     -------------------------------------- 149.1/149.1 kB 2.2 MB/s eta 0:00:00\n",
      "Installing collected packages: chess\n",
      "Successfully installed chess-1.9.4\n",
      "Collecting Stockfish\n",
      "  Downloading stockfish-3.28.0-py3-none-any.whl (13 kB)\n",
      "Installing collected packages: Stockfish\n",
      "Successfully installed Stockfish-3.28.0\n"
     ]
    }
   ],
   "source": [
    "!pip install chess\n",
    "!pip install Stockfish\n"
   ]
  },
  {
   "cell_type": "code",
   "execution_count": null,
   "id": "2ef08c09",
   "metadata": {},
   "outputs": [],
   "source": []
  },
  {
   "cell_type": "code",
   "execution_count": 5,
   "id": "461e1cea",
   "metadata": {},
   "outputs": [],
   "source": [
    "import chess.pgn\n",
    "import pandas as pd\n",
    "pd.options.display.max_columns=999\n",
    "import datetime\n",
    "import tqdm\n",
    "import zipfile\n",
    "import re"
   ]
  },
  {
   "cell_type": "code",
   "execution_count": 6,
   "id": "5cf981c4",
   "metadata": {
    "scrolled": false
   },
   "outputs": [],
   "source": [
    "from stockfish import Stockfish\n",
    "import chess\n",
    "import chess.engine\n",
    "import chess.svg\n",
    "import chess.pgn\n",
    "import re\n",
    "import numpy as np\n",
    "import pandas as pd\n",
    "from statsmodels.distributions.empirical_distribution import ECDF\n",
    "from scipy import stats\n",
    "import matplotlib.pyplot as plt\n",
    "import pickle\n",
    "%matplotlib inline\n",
    "\n"
   ]
  },
  {
   "cell_type": "code",
   "execution_count": 7,
   "id": "f222ecfd",
   "metadata": {},
   "outputs": [
    {
     "name": "stderr",
     "output_type": "stream",
     "text": [
      "100%|█████████████████████████████████████████████████████████████████████████████| 1000/1000 [00:03<00:00, 253.43it/s]\n"
     ]
    }
   ],
   "source": [
    "# NUM_GAMES= 1000\n",
    "# rows=[]\n",
    "\n",
    "# with open(f'data/general_games.pgn') as pgn:\n",
    "#     for game in tqdm.tqdm(range(NUM_GAMES)):\n",
    "#         row={}\n",
    "#         game = chess.pgn.read_game(pgn)\n",
    "#         row['headers']=game.headers.__dict__\n",
    "#         row['moves']=[x.uci() for x in game.mainline_moves()]\n",
    "#         rows.append(row)\n",
    "# games=pd.DataFrame(rows)\n",
    "# games\n",
    "# games.to_csv(\"data/general.csv\",index=False)\n"
   ]
  },
  {
   "cell_type": "code",
   "execution_count": null,
   "id": "f3b6bc6d",
   "metadata": {},
   "outputs": [],
   "source": []
  },
  {
   "cell_type": "code",
   "execution_count": 8,
   "id": "6f6feb2d",
   "metadata": {},
   "outputs": [
    {
     "name": "stdout",
     "output_type": "stream",
     "text": [
      "Knight Position:  (6, 7)\n"
     ]
    }
   ],
   "source": [
    "def replace_numbers(string):\n",
    "    pattern = r'\\d'  # Matches any digit\n",
    "    result = re.sub(pattern, lambda match: 'X' * int(match.group()), string)\n",
    "    return result\n",
    "def get_piece_position(fen, piece):\n",
    "    # Split the FEN string into its components\n",
    "    fen_parts = fen.split(' ')\n",
    "    \n",
    "    # Extract the board position part of the FEN\n",
    "    board_fen = fen_parts[0]\n",
    "    \n",
    "    # Remove the slashes (/) to get a string of all the pieces\n",
    "    board_fen = board_fen.replace('/', '')\n",
    "    board_fen = replace_numbers(board_fen)    #Find the index of the knight (N) in the string\n",
    "    indices = []\n",
    "    for index, char in enumerate(board_fen):\n",
    "        if char == piece:\n",
    "            indices.append(index)\n",
    "            break\n",
    "            \n",
    "    # Calculate the row and column based on the index\n",
    "    try:\n",
    "        row = 7 - (indices[0] // 8)\n",
    "        column = indices[0] % 8\n",
    "        return row, column\n",
    "    except:\n",
    "        return -1, -1\n",
    "def magnus_white(curr_game):\n",
    "    if 'Black' in curr_game['headers'] and 'Carlsen, Magnus' in curr_game['headers']:\n",
    "        if curr_game['headers'].index('Black') < curr_game['headers'].index('Carlsen, Magnus'):\n",
    "            return False\n",
    "        else:\n",
    "            return True\n",
    "    else:\n",
    "        return True\n",
    "\n",
    "def save_list(list_save, file_path):\n",
    "    with open(file_path, 'wb') as file:\n",
    "        pickle.dump(list_save, file)\n",
    "\n",
    "def load_list(file_path):\n",
    "    with open(file_path, 'rb') as file:\n",
    "        chess_data = pickle.load(file)\n",
    "    return chess_data\n",
    "# Example usage\n",
    "fen = \"rnbqkbnr/pppppppN/8/8/8/8/PPNPPPPP/RBNQKBNR w KQkq - 0 1\"\n",
    "knight_position = get_piece_position(fen, \"N\")\n",
    "print(\"Knight Position: \", knight_position)"
   ]
  },
  {
   "cell_type": "code",
   "execution_count": 9,
   "id": "a96097d0",
   "metadata": {},
   "outputs": [
    {
     "data": {
      "text/html": [
       "<div>\n",
       "<style scoped>\n",
       "    .dataframe tbody tr th:only-of-type {\n",
       "        vertical-align: middle;\n",
       "    }\n",
       "\n",
       "    .dataframe tbody tr th {\n",
       "        vertical-align: top;\n",
       "    }\n",
       "\n",
       "    .dataframe thead th {\n",
       "        text-align: right;\n",
       "    }\n",
       "</style>\n",
       "<table border=\"1\" class=\"dataframe\">\n",
       "  <thead>\n",
       "    <tr style=\"text-align: right;\">\n",
       "      <th></th>\n",
       "      <th>headers</th>\n",
       "      <th>moves</th>\n",
       "    </tr>\n",
       "  </thead>\n",
       "  <tbody>\n",
       "    <tr>\n",
       "      <th>0</th>\n",
       "      <td>{'_tag_roster': {'Event': '?', 'Site': '?', 'D...</td>\n",
       "      <td>[e2e4, e7e6, d2d4, d7d5, b1c3, f8b4, e4e5, g8e...</td>\n",
       "    </tr>\n",
       "    <tr>\n",
       "      <th>1</th>\n",
       "      <td>{'_tag_roster': {'Event': 'Skopje Solidarnost-...</td>\n",
       "      <td>[c2c4, g8f6, b1c3, e7e6, g1f3, f8b4, d1c2, c7c...</td>\n",
       "    </tr>\n",
       "    <tr>\n",
       "      <th>2</th>\n",
       "      <td>{'_tag_roster': {'Event': 'Skopje Solidarnost-...</td>\n",
       "      <td>[c2c4, g8f6, b1c3, d7d5, c4d5, f6d5, g2g3, g7g...</td>\n",
       "    </tr>\n",
       "    <tr>\n",
       "      <th>3</th>\n",
       "      <td>{'_tag_roster': {'Event': 'Yerevan', 'Site': '...</td>\n",
       "      <td>[g1f3, c7c5, g2g3, b7b5, a2a4, b5a4, f1g2, c8b...</td>\n",
       "    </tr>\n",
       "    <tr>\n",
       "      <th>4</th>\n",
       "      <td>{'_tag_roster': {'Event': 'URS Team-Cup09', 'S...</td>\n",
       "      <td>[g1f3, g7g6, e2e4, d7d6, d2d4, g8f6, b1c3, f8g...</td>\n",
       "    </tr>\n",
       "    <tr>\n",
       "      <th>...</th>\n",
       "      <td>...</td>\n",
       "      <td>...</td>\n",
       "    </tr>\n",
       "    <tr>\n",
       "      <th>994</th>\n",
       "      <td>{'_tag_roster': {'Event': 'FRA-chT Top 16 Gp H...</td>\n",
       "      <td>[d2d4, d7d5, c2c4, e7e6, b1c3, f8b4, g1f3, g8f...</td>\n",
       "    </tr>\n",
       "    <tr>\n",
       "      <th>995</th>\n",
       "      <td>{'_tag_roster': {'Event': 'BIH-chT', 'Site': '...</td>\n",
       "      <td>[e2e4, c7c5, g1f3, b8c6, d2d4, c5d4, f3d4, g8f...</td>\n",
       "    </tr>\n",
       "    <tr>\n",
       "      <th>996</th>\n",
       "      <td>{'_tag_roster': {'Event': 'BIH-chT', 'Site': '...</td>\n",
       "      <td>[d2d4, g8f6, c2c4, e7e6, g1f3, b7b6, g2g3, c8b...</td>\n",
       "    </tr>\n",
       "    <tr>\n",
       "      <th>997</th>\n",
       "      <td>{'_tag_roster': {'Event': 'BIH-chT', 'Site': '...</td>\n",
       "      <td>[e2e4, c7c5, g1f3, b8c6, b1c3, e7e5, f1c4, d7d...</td>\n",
       "    </tr>\n",
       "    <tr>\n",
       "      <th>998</th>\n",
       "      <td>{'_tag_roster': {'Event': 'ARG-ch 83rd', 'Site...</td>\n",
       "      <td>[e2e4, d7d6, c2c4, g7g6, b1c3, f8g7, g2g3, c7c...</td>\n",
       "    </tr>\n",
       "  </tbody>\n",
       "</table>\n",
       "<p>999 rows × 2 columns</p>\n",
       "</div>"
      ],
      "text/plain": [
       "                                               headers  \\\n",
       "0    {'_tag_roster': {'Event': '?', 'Site': '?', 'D...   \n",
       "1    {'_tag_roster': {'Event': 'Skopje Solidarnost-...   \n",
       "2    {'_tag_roster': {'Event': 'Skopje Solidarnost-...   \n",
       "3    {'_tag_roster': {'Event': 'Yerevan', 'Site': '...   \n",
       "4    {'_tag_roster': {'Event': 'URS Team-Cup09', 'S...   \n",
       "..                                                 ...   \n",
       "994  {'_tag_roster': {'Event': 'FRA-chT Top 16 Gp H...   \n",
       "995  {'_tag_roster': {'Event': 'BIH-chT', 'Site': '...   \n",
       "996  {'_tag_roster': {'Event': 'BIH-chT', 'Site': '...   \n",
       "997  {'_tag_roster': {'Event': 'BIH-chT', 'Site': '...   \n",
       "998  {'_tag_roster': {'Event': 'ARG-ch 83rd', 'Site...   \n",
       "\n",
       "                                                 moves  \n",
       "0    [e2e4, e7e6, d2d4, d7d5, b1c3, f8b4, e4e5, g8e...  \n",
       "1    [c2c4, g8f6, b1c3, e7e6, g1f3, f8b4, d1c2, c7c...  \n",
       "2    [c2c4, g8f6, b1c3, d7d5, c4d5, f6d5, g2g3, g7g...  \n",
       "3    [g1f3, c7c5, g2g3, b7b5, a2a4, b5a4, f1g2, c8b...  \n",
       "4    [g1f3, g7g6, e2e4, d7d6, d2d4, g8f6, b1c3, f8g...  \n",
       "..                                                 ...  \n",
       "994  [d2d4, d7d5, c2c4, e7e6, b1c3, f8b4, g1f3, g8f...  \n",
       "995  [e2e4, c7c5, g1f3, b8c6, d2d4, c5d4, f3d4, g8f...  \n",
       "996  [d2d4, g8f6, c2c4, e7e6, g1f3, b7b6, g2g3, c8b...  \n",
       "997  [e2e4, c7c5, g1f3, b8c6, b1c3, e7e5, f1c4, d7d...  \n",
       "998  [e2e4, d7d6, c2c4, g7g6, b1c3, f8g7, g2g3, c7c...  \n",
       "\n",
       "[999 rows x 2 columns]"
      ]
     },
     "execution_count": 9,
     "metadata": {},
     "output_type": "execute_result"
    }
   ],
   "source": [
    "games=pd.read_csv(\"data/general.csv\")\n",
    "games['moves']=games['moves'].apply(lambda x: eval(x))\n",
    "#games['headers']=games['headers'].apply(lambda x: eval(x))#to dict\n",
    "games"
   ]
  },
  {
   "cell_type": "code",
   "execution_count": null,
   "id": "c9287084",
   "metadata": {},
   "outputs": [],
   "source": []
  },
  {
   "cell_type": "code",
   "execution_count": 26,
   "id": "84e84afc",
   "metadata": {
    "scrolled": false
   },
   "outputs": [],
   "source": [
    "# df[a][b][c][d] = array of CPL of piece a at location (b, c) of color d\n",
    "#0 = knight, 1, a, white\n",
    "#df = np.zeros((2, 8, 8,2,1,), dtype=float)\n",
    "# df = [[[[[0]] * 2] * 8] * 8] * 2\n",
    "# #df\n",
    "# # df = np.arange(256)\n",
    "# # df = np.reshape(df, (2, 8, 8,2,1))\n",
    "# df[0][0][0][0]\n",
    "# df[1][7][7][1]"
   ]
  },
  {
   "cell_type": "code",
   "execution_count": null,
   "id": "a42d074c",
   "metadata": {
    "scrolled": false
   },
   "outputs": [],
   "source": []
  },
  {
   "cell_type": "code",
   "execution_count": 10,
   "id": "85f4980a",
   "metadata": {},
   "outputs": [],
   "source": [
    "engine = Stockfish(\"stockfish-windows-2022-x86-64-avx2.exe\")\n",
    "engine.set_depth(20)\n",
    "engine.set_skill_level(20)\n",
    "board=chess.Board()\n"
   ]
  },
  {
   "cell_type": "code",
   "execution_count": 11,
   "id": "98c9055f",
   "metadata": {},
   "outputs": [],
   "source": [
    "pieces = ['N', 'n', 'B', 'b']"
   ]
  },
  {
   "cell_type": "code",
   "execution_count": 13,
   "id": "22859a49",
   "metadata": {},
   "outputs": [],
   "source": [
    "df = [[[[[0] for _ in range(2)] for _ in range(8)] for _ in range(8)] for _ in range(2)]\n"
   ]
  },
  {
   "cell_type": "code",
   "execution_count": 14,
   "id": "11c74523",
   "metadata": {},
   "outputs": [
    {
     "data": {
      "text/plain": [
       "[0]"
      ]
     },
     "execution_count": 14,
     "metadata": {},
     "output_type": "execute_result"
    }
   ],
   "source": [
    "df[1][7][7][1]"
   ]
  },
  {
   "cell_type": "code",
   "execution_count": 5,
   "id": "c8887b93",
   "metadata": {
    "scrolled": false
   },
   "outputs": [],
   "source": [
    "for i in tqdm.tqdm(range(0, 1000)):\n",
    "    try:\n",
    "        board=chess.Board()\n",
    "        curr_game = games.iloc[i]\n",
    "        print(curr_game['moves'][0])\n",
    "        for move_number, san in enumerate(curr_game['moves']):\n",
    "            move=board.push_san(san)\n",
    "            engine.set_fen_position(board.fen())\n",
    "            evaluation=engine.get_evaluation()\n",
    "            for index, piece in enumerate(pieces):\n",
    "                row, column = get_piece_position(board.fen(), piece)\n",
    "                #print(i, row, column)\n",
    "                if (row == -1):\n",
    "                    continue\n",
    "                if (i % 10 == 0):\n",
    "                    print(board.fen())\n",
    "                    print(evaluation)\n",
    "                df[int(index / 2)][row][column][index % 2].append(evaluation['value'])\n",
    "                #print(df[int(index / 2)][row][column][index % 2])\n",
    "        if (i % 100 == 0):\n",
    "            save_list(df, 'data/general_final_' + str(int(i/100)) + '.pkl')\n",
    "    except:\n",
    "        print(\"An exception occurred\")\n",
    "        continue\n",
    "    "
   ]
  },
  {
   "cell_type": "code",
   "execution_count": 15,
   "id": "6b3e2cfa",
   "metadata": {
    "scrolled": false
   },
   "outputs": [
    {
     "ename": "FileNotFoundError",
     "evalue": "[Errno 2] No such file or directory: 'data/general_final_all.pkl'",
     "output_type": "error",
     "traceback": [
      "\u001b[1;31m---------------------------------------------------------------------------\u001b[0m",
      "\u001b[1;31mFileNotFoundError\u001b[0m                         Traceback (most recent call last)",
      "Cell \u001b[1;32mIn[15], line 2\u001b[0m\n\u001b[0;32m      1\u001b[0m \u001b[38;5;66;03m#0 = knight, 1, a, white\u001b[39;00m\n\u001b[1;32m----> 2\u001b[0m df \u001b[38;5;241m=\u001b[39m \u001b[43mload_list\u001b[49m\u001b[43m(\u001b[49m\u001b[38;5;124;43m'\u001b[39;49m\u001b[38;5;124;43mdata/general_final_all.pkl\u001b[39;49m\u001b[38;5;124;43m'\u001b[39;49m\u001b[43m)\u001b[49m\n",
      "Cell \u001b[1;32mIn[8], line 42\u001b[0m, in \u001b[0;36mload_list\u001b[1;34m(file_path)\u001b[0m\n\u001b[0;32m     41\u001b[0m \u001b[38;5;28;01mdef\u001b[39;00m \u001b[38;5;21mload_list\u001b[39m(file_path):\n\u001b[1;32m---> 42\u001b[0m     \u001b[38;5;28;01mwith\u001b[39;00m \u001b[38;5;28;43mopen\u001b[39;49m\u001b[43m(\u001b[49m\u001b[43mfile_path\u001b[49m\u001b[43m,\u001b[49m\u001b[43m \u001b[49m\u001b[38;5;124;43m'\u001b[39;49m\u001b[38;5;124;43mrb\u001b[39;49m\u001b[38;5;124;43m'\u001b[39;49m\u001b[43m)\u001b[49m \u001b[38;5;28;01mas\u001b[39;00m file:\n\u001b[0;32m     43\u001b[0m         chess_data \u001b[38;5;241m=\u001b[39m pickle\u001b[38;5;241m.\u001b[39mload(file)\n\u001b[0;32m     44\u001b[0m     \u001b[38;5;28;01mreturn\u001b[39;00m chess_data\n",
      "File \u001b[1;32m~\\anaconda3\\lib\\site-packages\\IPython\\core\\interactiveshell.py:282\u001b[0m, in \u001b[0;36m_modified_open\u001b[1;34m(file, *args, **kwargs)\u001b[0m\n\u001b[0;32m    275\u001b[0m \u001b[38;5;28;01mif\u001b[39;00m file \u001b[38;5;129;01min\u001b[39;00m {\u001b[38;5;241m0\u001b[39m, \u001b[38;5;241m1\u001b[39m, \u001b[38;5;241m2\u001b[39m}:\n\u001b[0;32m    276\u001b[0m     \u001b[38;5;28;01mraise\u001b[39;00m \u001b[38;5;167;01mValueError\u001b[39;00m(\n\u001b[0;32m    277\u001b[0m         \u001b[38;5;124mf\u001b[39m\u001b[38;5;124m\"\u001b[39m\u001b[38;5;124mIPython won\u001b[39m\u001b[38;5;124m'\u001b[39m\u001b[38;5;124mt let you open fd=\u001b[39m\u001b[38;5;132;01m{\u001b[39;00mfile\u001b[38;5;132;01m}\u001b[39;00m\u001b[38;5;124m by default \u001b[39m\u001b[38;5;124m\"\u001b[39m\n\u001b[0;32m    278\u001b[0m         \u001b[38;5;124m\"\u001b[39m\u001b[38;5;124mas it is likely to crash IPython. If you know what you are doing, \u001b[39m\u001b[38;5;124m\"\u001b[39m\n\u001b[0;32m    279\u001b[0m         \u001b[38;5;124m\"\u001b[39m\u001b[38;5;124myou can use builtins\u001b[39m\u001b[38;5;124m'\u001b[39m\u001b[38;5;124m open.\u001b[39m\u001b[38;5;124m\"\u001b[39m\n\u001b[0;32m    280\u001b[0m     )\n\u001b[1;32m--> 282\u001b[0m \u001b[38;5;28;01mreturn\u001b[39;00m io_open(file, \u001b[38;5;241m*\u001b[39margs, \u001b[38;5;241m*\u001b[39m\u001b[38;5;241m*\u001b[39mkwargs)\n",
      "\u001b[1;31mFileNotFoundError\u001b[0m: [Errno 2] No such file or directory: 'data/general_final_all.pkl'"
     ]
    }
   ],
   "source": [
    "#0 = knight, 1, a, white\n",
    "df = load_list('data/general_final_all.pkl')\n"
   ]
  },
  {
   "cell_type": "code",
   "execution_count": 9,
   "id": "77e03ba9",
   "metadata": {
    "scrolled": false
   },
   "outputs": [
    {
     "name": "stdout",
     "output_type": "stream",
     "text": [
      "Element at index [1][3][5][0]: [0, -794, -1254, -1218, -1346, -1246, -4, -3, 26, -141, -173, -15, -37, 401, 393, 537, 535, -794, -1254, -1218, -1346, -1246, -4, -3, 26, -141, -173, -15, -37, 401, 393, 537, 535, -6, -17, -95, -88, -334, -346, -338, -375, -379, -130, -141, 240, 249, 0, -13, -6, -579, -573, -542, -560, -545, -738, -602, -534, -939, -565, -1303, -557, 44, -41, -388, -252, -293, -289, -210, -292, -220, -218, -231, -206, -593, -630, -581, -580, -607, 381, 368, 293, 356, 432, 429, 8, 0, 4, -9, 0, -30, -36, -77, -6, -6, 380, 0, 32, -571, 36, 36, -2, -6, -10, -10, 9, 9, 0, 0, 0, 0, 0, -480, -468, 0, 9, 11, 0, 4, 0, 0, 0, 0, 0, 0, -7, 72, 68, 48, 11, 20, 12]\n"
     ]
    }
   ],
   "source": [
    "element = df[1][3][5][1]\n",
    "print(\"Element at index [1][3][5][0]:\", element)"
   ]
  },
  {
   "cell_type": "code",
   "execution_count": 22,
   "id": "8f44fd7d",
   "metadata": {},
   "outputs": [],
   "source": [
    "import matplotlib.pyplot as plt\n",
    "\n",
    "def create_histogram(data, piece = 0, row = 0, col = 0, color = 0):\n",
    "    # Create a histogram\n",
    "    plt.hist(data, bins='auto', alpha=0.7, rwidth=0.85)\n",
    "\n",
    "    # Set labels and title\n",
    "    plt.xlabel('Value')\n",
    "    plt.ylabel('Frequency')\n",
    "    tit = \"Distribution of \"\n",
    "    if color == 0:\n",
    "        tit = tit + \"White \"\n",
    "    else:\n",
    "        tit = tit + \"Black \"\n",
    "    if piece == 0:\n",
    "        tit = tit + \"Knight \"\n",
    "    else:\n",
    "        tit = tit + \"Bishop \"\n",
    "    tit = tit + \"at (\" + str(col + 1) + \",\" + str(row + 1) + \")\"\n",
    "    plt.title(tit)\n",
    "\n",
    "    # Display the histogram\n",
    "    plt.show()\n"
   ]
  },
  {
   "cell_type": "code",
   "execution_count": 23,
   "id": "33908bff",
   "metadata": {},
   "outputs": [
    {
     "data": {
      "image/png": "[encoded data removed]",
      "text/plain": [
       "<Figure size 640x480 with 1 Axes>"
      ]
     },
     "metadata": {},
     "output_type": "display_data"
    }
   ],
   "source": [
    "create_histogram(df[0][4][5][0],0,4,5,0)"
   ]
  },
  {
   "cell_type": "code",
   "execution_count": 29,
   "id": "69852707",
   "metadata": {
    "scrolled": false
   },
   "outputs": [
    {
     "data": {
      "image/png": "[encoded data removed]",
      "text/plain": [
       "<Figure size 640x480 with 1 Axes>"
      ]
     },
     "metadata": {},
     "output_type": "display_data"
    }
   ],
   "source": [
    "create_histogram(df[1][1][1][0],1,1,1,0)"
   ]
  },
  {
   "cell_type": "code",
   "execution_count": null,
   "id": "d83c85f4",
   "metadata": {
    "scrolled": false
   },
   "outputs": [],
   "source": []
  },
  {
   "cell_type": "code",
   "execution_count": 20,
   "id": "eca1d7e5",
   "metadata": {},
   "outputs": [],
   "source": []
  },
  {
   "cell_type": "code",
   "execution_count": 22,
   "id": "6162aaef",
   "metadata": {
    "scrolled": false
   },
   "outputs": [],
   "source": []
  },
  {
   "cell_type": "code",
   "execution_count": null,
   "id": "9f0dd71e",
   "metadata": {},
   "outputs": [],
   "source": []
  },
  {
   "cell_type": "code",
   "execution_count": 23,
   "id": "4cabebcb",
   "metadata": {},
   "outputs": [],
   "source": []
  },
  {
   "cell_type": "code",
   "execution_count": null,
   "id": "23968988",
   "metadata": {},
   "outputs": [],
   "source": []
  },
  {
   "cell_type": "code",
   "execution_count": null,
   "id": "82851d19",
   "metadata": {},
   "outputs": [],
   "source": []
  }
 ],
 "metadata": {
  "kernelspec": {
   "display_name": "Python 3 (ipykernel)",
   "language": "python",
   "name": "python3"
  },
  "language_info": {
   "codemirror_mode": {
    "name": "ipython",
    "version": 3
   },
   "file_extension": ".py",
   "mimetype": "text/x-python",
   "name": "python",
   "nbconvert_exporter": "python",
   "pygments_lexer": "ipython3",
   "version": "3.9.12"
  }
 },
 "nbformat": 4,
 "nbformat_minor": 5
}
