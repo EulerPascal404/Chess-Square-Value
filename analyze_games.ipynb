{
 "cells": [
  {
   "cell_type": "code",
   "execution_count": 2,
   "id": "f199f73f",
   "metadata": {
    "scrolled": true
   },
   "outputs": [
    {
     "name": "stdout",
     "output_type": "stream",
     "text": [
      "Collecting chess\n",
      "  Downloading chess-1.9.4-py3-none-any.whl (149 kB)\n",
      "     -------------------------------------- 149.1/149.1 kB 3.0 MB/s eta 0:00:00\n",
      "Installing collected packages: chess\n",
      "Successfully installed chess-1.9.4\n"
     ]
    }
   ],
   "source": [
    "# Sources\n",
    "# https://github.com/rogerfitz/tutorials/tree/master/python_chess\n"
   ]
  },
  {
   "cell_type": "code",
   "execution_count": 4,
   "id": "745bcba7",
   "metadata": {},
   "outputs": [
    {
     "name": "stdout",
     "output_type": "stream",
     "text": [
      "Requirement already satisfied: chess in c:\\users\\gupta\\anaconda3\\lib\\site-packages (1.9.4)\n",
      "Collecting Stockfish\n",
      "  Downloading stockfish-3.28.0-py3-none-any.whl (13 kB)\n",
      "Installing collected packages: Stockfish\n",
      "Successfully installed Stockfish-3.28.0\n"
     ]
    }
   ],
   "source": [
    "!pip install chess\n",
    "!pip install Stockfish"
   ]
  },
  {
   "cell_type": "code",
   "execution_count": 1,
   "id": "0554ef3b",
   "metadata": {},
   "outputs": [],
   "source": [
    "import chess.pgn\n",
    "import pandas as pd\n",
    "pd.options.display.max_columns=999\n",
    "import datetime\n",
    "import tqdm\n",
    "import zipfile"
   ]
  },
  {
   "cell_type": "code",
   "execution_count": 2,
   "id": "56ecbbff",
   "metadata": {
    "scrolled": false
   },
   "outputs": [],
   "source": [
    "from stockfish import Stockfish\n",
    "import chess\n",
    "import chess.engine\n",
    "import chess.svg\n",
    "import chess.pgn\n",
    "import re\n",
    "import numpy as np\n",
    "import pandas as pd\n",
    "from statsmodels.distributions.empirical_distribution import ECDF\n",
    "from scipy import stats\n",
    "import matplotlib.pyplot as plt\n",
    "%matplotlib inline\n",
    "\n"
   ]
  },
  {
   "cell_type": "code",
   "execution_count": 4,
   "id": "15472508",
   "metadata": {
    "scrolled": false
   },
   "outputs": [],
   "source": [
    "engine = Stockfish(\"stockfish-windows-2022-x86-64-avx2.exe\")\n",
    "engine.set_depth(20)\n",
    "engine.set_skill_level(20)"
   ]
  },
  {
   "cell_type": "code",
   "execution_count": null,
   "id": "149ed928",
   "metadata": {},
   "outputs": [],
   "source": [
    "import chess\n",
    "\n",
    "def get_piece_location(piece, square):\n",
    "    \"\"\"\n",
    "    Convert square index to algebraic notation (e.g., 0 to 'a1')\n",
    "    \"\"\"\n",
    "    return chess.square_name(square)\n",
    "\n",
    "def play_and_store_game(game):\n",
    "    \"\"\"\n",
    "    Play through the given chess game and store the distinct location and piece pairs\n",
    "    \"\"\"\n",
    "    board = chess.Board()\n",
    "\n",
    "    distinct_pieces = set()\n",
    "\n",
    "    for move in game.mainline_moves():\n",
    "        board.push(move)\n",
    "\n",
    "        piece = board.piece_at(move.to_square)\n",
    "        if piece is not None:\n",
    "            piece_location = get_piece_location(piece.symbol(), move.to_square)\n",
    "            distinct_pieces.add((piece.symbol(), piece_location))\n",
    "\n",
    "    return distinct_pieces\n",
    "\n",
    "# Example usage\n",
    "game_pgn = '''\n",
    "[Event \"Example Game\"]\n",
    "[Site \"Unknown\"]\n",
    "[Date \"2023.05.18\"]\n",
    "[Round \"-\"]\n",
    "[White \"Player1\"]\n",
    "[Black \"Player2\"]\n",
    "\n",
    "1. e4 e5 2. Nf3 Nc6 3. Bb5 a6 4. Ba4 Nf6 5. O-O Be7 6. Re1 b5 7. Bb3 d6 8. c3 O-O\n",
    "9. h3 Nb8 10. d4 Nbd7 11. Nbd2 Bb7 12. Bc2 Re8 13. Nf1 Bf8 14. Ng3 g6 15. a4 c5\n",
    "16. d5 c4 17. Bg5 Nc5 18. Nh2 h6 19. Be3 Nfd7 20. Qd2 h5 21. Rf1 Bg7 22. Bh6 Nb6\n",
    "23. Bxg7 Kxg7 24. axb5 axb5 25. Rxa8 Bxa8 26. f4 exf4 27. Qxf4 Qe7 28. Nf3 Nbd7\n",
    "29. Nd4 Ne5 30. Ngf5+ gxf5 31. Nxf5+ Kf8 32. Qh6+ 1-0\n",
    "'''\n",
    "\n",
    "game = chess.pgn.read_game(io.StringIO(game_pgn))\n",
    "distinct_pieces = play_and_store_game(game)\n",
    "\n",
    "for piece, location in distinct_pieces:\n",
    "    print(f\"Piece: {piece}, Location: {location}\")\n"
   ]
  }
 ],
 "metadata": {
  "kernelspec": {
   "display_name": "Python 3 (ipykernel)",
   "language": "python",
   "name": "python3"
  },
  "language_info": {
   "codemirror_mode": {
    "name": "ipython",
    "version": 3
   },
   "file_extension": ".py",
   "mimetype": "text/x-python",
   "name": "python",
   "nbconvert_exporter": "python",
   "pygments_lexer": "ipython3",
   "version": "3.9.12"
  }
 },
 "nbformat": 4,
 "nbformat_minor": 5
}
