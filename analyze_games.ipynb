{
 "cells": [
  {
   "cell_type": "code",
   "execution_count": 2,
   "id": "e34bdf22",
   "metadata": {
    "scrolled": true
   },
   "outputs": [
    {
     "name": "stdout",
     "output_type": "stream",
     "text": [
      "Collecting chess\n",
      "  Downloading chess-1.9.4-py3-none-any.whl (149 kB)\n",
      "     -------------------------------------- 149.1/149.1 kB 3.0 MB/s eta 0:00:00\n",
      "Installing collected packages: chess\n",
      "Successfully installed chess-1.9.4\n"
     ]
    }
   ],
   "source": [
    "# Sources\n",
    "# https://github.com/rogerfitz/tutorials/tree/master/python_chess\n",
    "# https://python-chess.readthedocs.io/en/latest/"
   ]
  },
  {
   "cell_type": "code",
   "execution_count": 4,
   "id": "f69ef206",
   "metadata": {},
   "outputs": [
    {
     "name": "stdout",
     "output_type": "stream",
     "text": [
      "Requirement already satisfied: chess in c:\\users\\gupta\\anaconda3\\lib\\site-packages (1.9.4)\n",
      "Collecting Stockfish\n",
      "  Downloading stockfish-3.28.0-py3-none-any.whl (13 kB)\n",
      "Installing collected packages: Stockfish\n",
      "Successfully installed Stockfish-3.28.0\n"
     ]
    }
   ],
   "source": [
    "!pip install chess\n",
    "!pip install Stockfish"
   ]
  },
  {
   "cell_type": "code",
   "execution_count": 4,
   "id": "461e1cea",
   "metadata": {},
   "outputs": [],
   "source": [
    "import chess.pgn\n",
    "import pandas as pd\n",
    "pd.options.display.max_columns=999\n",
    "import datetime\n",
    "import tqdm\n",
    "import zipfile\n",
    "import re"
   ]
  },
  {
   "cell_type": "code",
   "execution_count": 5,
   "id": "5cf981c4",
   "metadata": {
    "scrolled": false
   },
   "outputs": [],
   "source": [
    "from stockfish import Stockfish\n",
    "import chess\n",
    "import chess.engine\n",
    "import chess.svg\n",
    "import chess.pgn\n",
    "import re\n",
    "import numpy as np\n",
    "import pandas as pd\n",
    "from statsmodels.distributions.empirical_distribution import ECDF\n",
    "from scipy import stats\n",
    "import matplotlib.pyplot as plt\n",
    "%matplotlib inline\n",
    "\n"
   ]
  },
  {
   "cell_type": "code",
   "execution_count": 26,
   "id": "f222ecfd",
   "metadata": {},
   "outputs": [
    {
     "name": "stderr",
     "output_type": "stream",
     "text": [
      "100%|█████████████████████████████████████████████████████████████████████████████| 2386/2386 [00:16<00:00, 145.65it/s]\n"
     ]
    }
   ],
   "source": [
    "NUM_GAMES=2386#from https://database.nikonoel.fr/ Not necessary but helpful to get tqdm to give estimate\n",
    "rows=[]\n",
    "\n",
    "with open(f'data/carlsen_games.pgn') as pgn:\n",
    "    for game in tqdm.tqdm(range(NUM_GAMES)):\n",
    "        row={}\n",
    "        game = chess.pgn.read_game(pgn)\n",
    "        row['headers']=game.headers.__dict__\n",
    "        row['moves']=[x.uci() for x in game.mainline_moves()]\n",
    "        rows.append(row)\n",
    "games=pd.DataFrame(rows)\n",
    "games\n",
    "games.to_csv(\"data/carlsen.csv\",index=False)\n"
   ]
  },
  {
   "cell_type": "code",
   "execution_count": 7,
   "id": "e45505f8",
   "metadata": {},
   "outputs": [],
   "source": []
  },
  {
   "cell_type": "code",
   "execution_count": 8,
   "id": "6f6feb2d",
   "metadata": {},
   "outputs": [
    {
     "name": "stdout",
     "output_type": "stream",
     "text": [
      "Knight Position:  (0, 1)\n"
     ]
    }
   ],
   "source": [
    "def replace_numbers(string):\n",
    "    pattern = r'\\d'  # Matches any digit\n",
    "    result = re.sub(pattern, lambda match: 'X' * int(match.group()), string)\n",
    "    return result\n",
    "def get_piece_position(fen, piece):\n",
    "    # Split the FEN string into its components\n",
    "    fen_parts = fen.split(' ')\n",
    "    \n",
    "    # Extract the board position part of the FEN\n",
    "    board_fen = fen_parts[0]\n",
    "    \n",
    "    # Remove the slashes (/) to get a string of all the pieces\n",
    "    board_fen = board_fen.replace('/', '')\n",
    "    board_fen = replace_numbers(board_fen)    #Find the index of the knight (N) in the string\n",
    "    indices = []\n",
    "    for index, char in enumerate(board_fen):\n",
    "        if char == piece:\n",
    "            indices.append(index)\n",
    "            break\n",
    "            \n",
    "    # Calculate the row and column based on the index\n",
    "    try:\n",
    "        row = 7 - (indices[0] // 8)\n",
    "        column = indices[0] % 8\n",
    "        return row, column\n",
    "    except:\n",
    "        return -1, -1\n",
    "import pickle\n",
    "\n",
    "def save_list(list_save, file_path):\n",
    "    with open(file_path, 'wb') as file:\n",
    "        pickle.dump(list_save, file)\n",
    "\n",
    "def load_list(file_path):\n",
    "    with open(file_path, 'rb') as file:\n",
    "        chess_data = pickle.load(file)\n",
    "    return chess_data\n",
    "\n",
    "# Example usage\n",
    "fen = \"rnbqkbnr/pppppppp/8/8/8/8/PPPPPPPP/RNBQKBNR w KQkq - 0 1\"\n",
    "knight_position = get_piece_position(fen, \"N\")\n",
    "print(\"Knight Position: \", knight_position)"
   ]
  },
  {
   "cell_type": "code",
   "execution_count": 9,
   "id": "a96097d0",
   "metadata": {},
   "outputs": [
    {
     "data": {
      "text/html": [
       "<div>\n",
       "<style scoped>\n",
       "    .dataframe tbody tr th:only-of-type {\n",
       "        vertical-align: middle;\n",
       "    }\n",
       "\n",
       "    .dataframe tbody tr th {\n",
       "        vertical-align: top;\n",
       "    }\n",
       "\n",
       "    .dataframe thead th {\n",
       "        text-align: right;\n",
       "    }\n",
       "</style>\n",
       "<table border=\"1\" class=\"dataframe\">\n",
       "  <thead>\n",
       "    <tr style=\"text-align: right;\">\n",
       "      <th></th>\n",
       "      <th>headers</th>\n",
       "      <th>moves</th>\n",
       "    </tr>\n",
       "  </thead>\n",
       "  <tbody>\n",
       "    <tr>\n",
       "      <th>0</th>\n",
       "      <td>{'_tag_roster': {'Event': 'Rated Blitz game', ...</td>\n",
       "      <td>[d2d4, d7d6, g1f3, g8f6, c1f4, c8f5, e2e3, e7e...</td>\n",
       "    </tr>\n",
       "    <tr>\n",
       "      <th>1</th>\n",
       "      <td>{'_tag_roster': {'Event': 'Rated Blitz game', ...</td>\n",
       "      <td>[d2d4, e7e5, e2e3, e5d4, e3d4, d7d5, f2f4, g8f...</td>\n",
       "    </tr>\n",
       "    <tr>\n",
       "      <th>2</th>\n",
       "      <td>{'_tag_roster': {'Event': 'Rated Blitz game', ...</td>\n",
       "      <td>[e2e4, c7c5, g1f3, d7d6, d2d4, c5d4, f3d4, g8f...</td>\n",
       "    </tr>\n",
       "    <tr>\n",
       "      <th>3</th>\n",
       "      <td>{'_tag_roster': {'Event': 'Rated Blitz game', ...</td>\n",
       "      <td>[d2d4, f7f5, g2g3, g8f6, f1g2, g7g6, g1f3, f8g...</td>\n",
       "    </tr>\n",
       "    <tr>\n",
       "      <th>4</th>\n",
       "      <td>{'_tag_roster': {'Event': 'Rated Blitz game', ...</td>\n",
       "      <td>[d2d4, d7d5, c2c4, d5c4, e2e3, e7e5, f1c4, e5d...</td>\n",
       "    </tr>\n",
       "    <tr>\n",
       "      <th>...</th>\n",
       "      <td>...</td>\n",
       "      <td>...</td>\n",
       "    </tr>\n",
       "    <tr>\n",
       "      <th>355530</th>\n",
       "      <td>{'_tag_roster': {'Event': 'Rated Blitz game', ...</td>\n",
       "      <td>[g1f3, d7d5, g2g3, c7c6, f1g2, g8f6, e1g1, c8g...</td>\n",
       "    </tr>\n",
       "    <tr>\n",
       "      <th>355531</th>\n",
       "      <td>{'_tag_roster': {'Event': 'Rated Blitz game', ...</td>\n",
       "      <td>[g1f3, g8f6, c2c4, g7g6, b1c3, f8g7, e2e4, d7d...</td>\n",
       "    </tr>\n",
       "    <tr>\n",
       "      <th>355532</th>\n",
       "      <td>{'_tag_roster': {'Event': 'Rated Blitz game', ...</td>\n",
       "      <td>[e2e4, c7c5, g1f3, b8c6, f1b5, e7e5, e1g1, d7d...</td>\n",
       "    </tr>\n",
       "    <tr>\n",
       "      <th>355533</th>\n",
       "      <td>{'_tag_roster': {'Event': 'Rated Blitz game', ...</td>\n",
       "      <td>[e2e4, e7e5, g1f3, b8c6, f1c4, d7d6, b1c3, f8e...</td>\n",
       "    </tr>\n",
       "    <tr>\n",
       "      <th>355534</th>\n",
       "      <td>{'_tag_roster': {'Event': 'Rated Blitz game', ...</td>\n",
       "      <td>[g1f3, g8f6, g2g3, e7e6, f1g2, d7d5, e1g1, f8d...</td>\n",
       "    </tr>\n",
       "  </tbody>\n",
       "</table>\n",
       "<p>355535 rows × 2 columns</p>\n",
       "</div>"
      ],
      "text/plain": [
       "                                                  headers  \\\n",
       "0       {'_tag_roster': {'Event': 'Rated Blitz game', ...   \n",
       "1       {'_tag_roster': {'Event': 'Rated Blitz game', ...   \n",
       "2       {'_tag_roster': {'Event': 'Rated Blitz game', ...   \n",
       "3       {'_tag_roster': {'Event': 'Rated Blitz game', ...   \n",
       "4       {'_tag_roster': {'Event': 'Rated Blitz game', ...   \n",
       "...                                                   ...   \n",
       "355530  {'_tag_roster': {'Event': 'Rated Blitz game', ...   \n",
       "355531  {'_tag_roster': {'Event': 'Rated Blitz game', ...   \n",
       "355532  {'_tag_roster': {'Event': 'Rated Blitz game', ...   \n",
       "355533  {'_tag_roster': {'Event': 'Rated Blitz game', ...   \n",
       "355534  {'_tag_roster': {'Event': 'Rated Blitz game', ...   \n",
       "\n",
       "                                                    moves  \n",
       "0       [d2d4, d7d6, g1f3, g8f6, c1f4, c8f5, e2e3, e7e...  \n",
       "1       [d2d4, e7e5, e2e3, e5d4, e3d4, d7d5, f2f4, g8f...  \n",
       "2       [e2e4, c7c5, g1f3, d7d6, d2d4, c5d4, f3d4, g8f...  \n",
       "3       [d2d4, f7f5, g2g3, g8f6, f1g2, g7g6, g1f3, f8g...  \n",
       "4       [d2d4, d7d5, c2c4, d5c4, e2e3, e7e5, f1c4, e5d...  \n",
       "...                                                   ...  \n",
       "355530  [g1f3, d7d5, g2g3, c7c6, f1g2, g8f6, e1g1, c8g...  \n",
       "355531  [g1f3, g8f6, c2c4, g7g6, b1c3, f8g7, e2e4, d7d...  \n",
       "355532  [e2e4, c7c5, g1f3, b8c6, f1b5, e7e5, e1g1, d7d...  \n",
       "355533  [e2e4, e7e5, g1f3, b8c6, f1c4, d7d6, b1c3, f8e...  \n",
       "355534  [g1f3, g8f6, g2g3, e7e6, f1g2, d7d5, e1g1, f8d...  \n",
       "\n",
       "[355535 rows x 2 columns]"
      ]
     },
     "execution_count": 9,
     "metadata": {},
     "output_type": "execute_result"
    }
   ],
   "source": [
    "games=pd.read_csv(\"data/loaded_games.csv\")\n",
    "games['moves']=games['moves'].apply(lambda x: eval(x))\n",
    "# games['headers']=games['headers'].apply(lambda x: eval(x))#to dict\n",
    "games"
   ]
  },
  {
   "cell_type": "code",
   "execution_count": 10,
   "id": "84e84afc",
   "metadata": {
    "scrolled": false
   },
   "outputs": [
    {
     "data": {
      "text/plain": [
       "[0]"
      ]
     },
     "execution_count": 10,
     "metadata": {},
     "output_type": "execute_result"
    }
   ],
   "source": [
    "# df[a][b][c][d] = array of CPL of piece a at location (b, c) of color d\n",
    "#0 = knight, a, 1, white\n",
    "#df = np.zeros((2, 8, 8,2,1,), dtype=float)\n",
    "df = [[[[[0]] * 2] * 8] * 8] * 2\n",
    "#df\n",
    "# df = np.arange(256)\n",
    "# df = np.reshape(df, (2, 8, 8,2,1))\n",
    "df[0][0][0][0]"
   ]
  },
  {
   "cell_type": "code",
   "execution_count": null,
   "id": "a42d074c",
   "metadata": {
    "scrolled": false
   },
   "outputs": [],
   "source": []
  },
  {
   "cell_type": "code",
   "execution_count": 11,
   "id": "85f4980a",
   "metadata": {},
   "outputs": [],
   "source": [
    "engine = Stockfish(\"stockfish-windows-2022-x86-64-avx2.exe\")\n",
    "engine.set_depth(20)\n",
    "engine.set_skill_level(20)\n",
    "board=chess.Board()\n"
   ]
  },
  {
   "cell_type": "code",
   "execution_count": 12,
   "id": "98c9055f",
   "metadata": {},
   "outputs": [],
   "source": [
    "# import numpy as np\n",
    "\n",
    "# df = np.zeros((2, 8, 8,2,2), dtype=object)"
   ]
  },
  {
   "cell_type": "code",
   "execution_count": 13,
   "id": "22859a49",
   "metadata": {},
   "outputs": [],
   "source": [
    "# df[0][0][0][0].append(5)\n",
    "# df[0][0][0][1]"
   ]
  },
  {
   "cell_type": "code",
   "execution_count": 14,
   "id": "11c74523",
   "metadata": {},
   "outputs": [],
   "source": [
    "# board=chess.Board()\n",
    "# g\n",
    "# g['moves'] = eval(g['moves'])"
   ]
  },
  {
   "cell_type": "code",
   "execution_count": 15,
   "id": "6b3e2cfa",
   "metadata": {},
   "outputs": [],
   "source": [
    "pieces = ['N', 'n', 'B', 'b']"
   ]
  },
  {
   "cell_type": "code",
   "execution_count": 16,
   "id": "77e03ba9",
   "metadata": {},
   "outputs": [
    {
     "data": {
      "text/plain": [
       "[0]"
      ]
     },
     "execution_count": 16,
     "metadata": {},
     "output_type": "execute_result"
    }
   ],
   "source": [
    "df = []\n",
    "for i in range(2):\n",
    "    df.append([])\n",
    "    for j in range(8):\n",
    "        df[i].append([])\n",
    "        for k in range(8):\n",
    "            df[i][j].append([])\n",
    "            for l in range(2):\n",
    "                df[i][j][k].append([0])\n",
    "df[1][7][7][1]"
   ]
  },
  {
   "cell_type": "code",
   "execution_count": null,
   "id": "8f44fd7d",
   "metadata": {},
   "outputs": [],
   "source": []
  },
  {
   "cell_type": "code",
   "execution_count": 17,
   "id": "69852707",
   "metadata": {
    "scrolled": false
   },
   "outputs": [
    {
     "name": "stderr",
     "output_type": "stream",
     "text": [
      "\r",
      "  0%|                                                                                            | 0/1 [00:00<?, ?it/s]"
     ]
    },
    {
     "name": "stdout",
     "output_type": "stream",
     "text": [
      "d2d4\n",
      "rnbqkbnr/pppppppp/8/8/3P4/8/PPP1PPPP/RNBQKBNR b KQkq - 0 1\n",
      "0 0 1\n",
      "{'type': 'cp', 'value': 32}\n",
      "rnbqkbnr/pppppppp/8/8/3P4/8/PPP1PPPP/RNBQKBNR b KQkq - 0 1\n",
      "0 7 1\n",
      "{'type': 'cp', 'value': 32}\n",
      "rnbqkbnr/pppppppp/8/8/3P4/8/PPP1PPPP/RNBQKBNR b KQkq - 0 1\n",
      "0 0 2\n",
      "{'type': 'cp', 'value': 32}\n",
      "rnbqkbnr/pppppppp/8/8/3P4/8/PPP1PPPP/RNBQKBNR b KQkq - 0 1\n",
      "0 7 2\n",
      "{'type': 'cp', 'value': 32}\n",
      "rnbqkbnr/ppp1pppp/3p4/8/3P4/8/PPP1PPPP/RNBQKBNR w KQkq - 0 2\n",
      "0 0 1\n",
      "{'type': 'cp', 'value': 49}\n",
      "rnbqkbnr/ppp1pppp/3p4/8/3P4/8/PPP1PPPP/RNBQKBNR w KQkq - 0 2\n",
      "0 7 1\n",
      "{'type': 'cp', 'value': 49}\n",
      "rnbqkbnr/ppp1pppp/3p4/8/3P4/8/PPP1PPPP/RNBQKBNR w KQkq - 0 2\n",
      "0 0 2\n",
      "{'type': 'cp', 'value': 49}\n",
      "rnbqkbnr/ppp1pppp/3p4/8/3P4/8/PPP1PPPP/RNBQKBNR w KQkq - 0 2\n",
      "0 7 2\n",
      "{'type': 'cp', 'value': 49}\n",
      "rnbqkbnr/ppp1pppp/3p4/8/3P4/5N2/PPP1PPPP/RNBQKB1R b KQkq - 1 2\n",
      "0 2 5\n",
      "{'type': 'cp', 'value': 46}\n",
      "rnbqkbnr/ppp1pppp/3p4/8/3P4/5N2/PPP1PPPP/RNBQKB1R b KQkq - 1 2\n",
      "0 7 1\n",
      "{'type': 'cp', 'value': 46}\n",
      "rnbqkbnr/ppp1pppp/3p4/8/3P4/5N2/PPP1PPPP/RNBQKB1R b KQkq - 1 2\n",
      "0 0 2\n",
      "{'type': 'cp', 'value': 46}\n",
      "rnbqkbnr/ppp1pppp/3p4/8/3P4/5N2/PPP1PPPP/RNBQKB1R b KQkq - 1 2\n",
      "0 7 2\n",
      "{'type': 'cp', 'value': 46}\n",
      "rnbqkb1r/ppp1pppp/3p1n2/8/3P4/5N2/PPP1PPPP/RNBQKB1R w KQkq - 2 3\n",
      "0 2 5\n",
      "{'type': 'cp', 'value': 38}\n",
      "rnbqkb1r/ppp1pppp/3p1n2/8/3P4/5N2/PPP1PPPP/RNBQKB1R w KQkq - 2 3\n",
      "0 7 1\n",
      "{'type': 'cp', 'value': 38}\n",
      "rnbqkb1r/ppp1pppp/3p1n2/8/3P4/5N2/PPP1PPPP/RNBQKB1R w KQkq - 2 3\n",
      "0 0 2\n",
      "{'type': 'cp', 'value': 38}\n",
      "rnbqkb1r/ppp1pppp/3p1n2/8/3P4/5N2/PPP1PPPP/RNBQKB1R w KQkq - 2 3\n",
      "0 7 2\n",
      "{'type': 'cp', 'value': 38}\n",
      "rnbqkb1r/ppp1pppp/3p1n2/8/3P1B2/5N2/PPP1PPPP/RN1QKB1R b KQkq - 3 3\n",
      "0 2 5\n",
      "{'type': 'cp', 'value': 28}\n",
      "rnbqkb1r/ppp1pppp/3p1n2/8/3P1B2/5N2/PPP1PPPP/RN1QKB1R b KQkq - 3 3\n",
      "0 7 1\n",
      "{'type': 'cp', 'value': 28}\n",
      "rnbqkb1r/ppp1pppp/3p1n2/8/3P1B2/5N2/PPP1PPPP/RN1QKB1R b KQkq - 3 3\n",
      "0 3 5\n",
      "{'type': 'cp', 'value': 28}\n",
      "rnbqkb1r/ppp1pppp/3p1n2/8/3P1B2/5N2/PPP1PPPP/RN1QKB1R b KQkq - 3 3\n",
      "0 7 2\n",
      "{'type': 'cp', 'value': 28}\n",
      "rn1qkb1r/ppp1pppp/3p1n2/5b2/3P1B2/5N2/PPP1PPPP/RN1QKB1R w KQkq - 4 4\n",
      "0 2 5\n",
      "{'type': 'cp', 'value': 21}\n",
      "rn1qkb1r/ppp1pppp/3p1n2/5b2/3P1B2/5N2/PPP1PPPP/RN1QKB1R w KQkq - 4 4\n",
      "0 7 1\n",
      "{'type': 'cp', 'value': 21}\n",
      "rn1qkb1r/ppp1pppp/3p1n2/5b2/3P1B2/5N2/PPP1PPPP/RN1QKB1R w KQkq - 4 4\n",
      "0 3 5\n",
      "{'type': 'cp', 'value': 21}\n",
      "rn1qkb1r/ppp1pppp/3p1n2/5b2/3P1B2/5N2/PPP1PPPP/RN1QKB1R w KQkq - 4 4\n",
      "0 7 5\n",
      "{'type': 'cp', 'value': 21}\n",
      "rn1qkb1r/ppp1pppp/3p1n2/5b2/3P1B2/4PN2/PPP2PPP/RN1QKB1R b KQkq - 0 4\n",
      "0 2 5\n",
      "{'type': 'cp', 'value': 26}\n",
      "rn1qkb1r/ppp1pppp/3p1n2/5b2/3P1B2/4PN2/PPP2PPP/RN1QKB1R b KQkq - 0 4\n",
      "0 7 1\n",
      "{'type': 'cp', 'value': 26}\n",
      "rn1qkb1r/ppp1pppp/3p1n2/5b2/3P1B2/4PN2/PPP2PPP/RN1QKB1R b KQkq - 0 4\n",
      "0 3 5\n",
      "{'type': 'cp', 'value': 26}\n",
      "rn1qkb1r/ppp1pppp/3p1n2/5b2/3P1B2/4PN2/PPP2PPP/RN1QKB1R b KQkq - 0 4\n",
      "0 7 5\n",
      "{'type': 'cp', 'value': 26}\n",
      "rn1qkb1r/ppp2ppp/3ppn2/5b2/3P1B2/4PN2/PPP2PPP/RN1QKB1R w KQkq - 0 5\n",
      "0 2 5\n",
      "{'type': 'cp', 'value': 37}\n",
      "rn1qkb1r/ppp2ppp/3ppn2/5b2/3P1B2/4PN2/PPP2PPP/RN1QKB1R w KQkq - 0 5\n",
      "0 7 1\n",
      "{'type': 'cp', 'value': 37}\n",
      "rn1qkb1r/ppp2ppp/3ppn2/5b2/3P1B2/4PN2/PPP2PPP/RN1QKB1R w KQkq - 0 5\n",
      "0 3 5\n",
      "{'type': 'cp', 'value': 37}\n",
      "rn1qkb1r/ppp2ppp/3ppn2/5b2/3P1B2/4PN2/PPP2PPP/RN1QKB1R w KQkq - 0 5\n",
      "0 7 5\n",
      "{'type': 'cp', 'value': 37}\n",
      "rn1qkb1r/ppp2ppp/3ppn2/5b2/3P1B2/4PN1P/PPP2PP1/RN1QKB1R b KQkq - 0 5\n",
      "0 2 5\n",
      "{'type': 'cp', 'value': 26}\n",
      "rn1qkb1r/ppp2ppp/3ppn2/5b2/3P1B2/4PN1P/PPP2PP1/RN1QKB1R b KQkq - 0 5\n",
      "0 7 1\n",
      "{'type': 'cp', 'value': 26}\n",
      "rn1qkb1r/ppp2ppp/3ppn2/5b2/3P1B2/4PN1P/PPP2PP1/RN1QKB1R b KQkq - 0 5\n",
      "0 3 5\n",
      "{'type': 'cp', 'value': 26}\n",
      "rn1qkb1r/ppp2ppp/3ppn2/5b2/3P1B2/4PN1P/PPP2PP1/RN1QKB1R b KQkq - 0 5\n",
      "0 7 5\n",
      "{'type': 'cp', 'value': 26}\n"
     ]
    },
    {
     "name": "stderr",
     "output_type": "stream",
     "text": [
      "100%|████████████████████████████████████████████████████████████████████████████████████| 1/1 [00:12<00:00, 12.64s/it]"
     ]
    },
    {
     "name": "stdout",
     "output_type": "stream",
     "text": [
      "rn1qkb1r/ppp2pp1/3ppn1p/5b2/3P1B2/4PN1P/PPP2PP1/RN1QKB1R w KQkq - 0 6\n",
      "0 2 5\n",
      "{'type': 'cp', 'value': 44}\n",
      "rn1qkb1r/ppp2pp1/3ppn1p/5b2/3P1B2/4PN1P/PPP2PP1/RN1QKB1R w KQkq - 0 6\n",
      "0 7 1\n",
      "{'type': 'cp', 'value': 44}\n",
      "rn1qkb1r/ppp2pp1/3ppn1p/5b2/3P1B2/4PN1P/PPP2PP1/RN1QKB1R w KQkq - 0 6\n",
      "0 3 5\n",
      "{'type': 'cp', 'value': 44}\n",
      "rn1qkb1r/ppp2pp1/3ppn1p/5b2/3P1B2/4PN1P/PPP2PP1/RN1QKB1R w KQkq - 0 6\n",
      "0 7 5\n",
      "{'type': 'cp', 'value': 44}\n"
     ]
    },
    {
     "name": "stderr",
     "output_type": "stream",
     "text": [
      "\n"
     ]
    }
   ],
   "source": [
    "for i in tqdm.tqdm(range(1)):\n",
    "    board=chess.Board()\n",
    "    curr_game = games.iloc[i]\n",
    "    print(curr_game['moves'][0])\n",
    "    for move_number, san in enumerate(curr_game['moves']):\n",
    "        if move_number == 10:\n",
    "            break;\n",
    "        move=board.push_san(san)\n",
    "        engine.set_fen_position(board.fen())\n",
    "        evaluation=engine.get_evaluation()\n",
    "        for index, piece in enumerate(pieces):\n",
    "            row, column = get_piece_position(board.fen(), piece)\n",
    "            #print(board.fen())\n",
    "            #print(i, row, column)\n",
    "            if (row == -1):\n",
    "                continue\n",
    "            #print(evaluation)\n",
    "            df[int(index / 2)][row][column][index % 2].append(evaluation['value'])\n"
   ]
  },
  {
   "cell_type": "code",
   "execution_count": null,
   "id": "d83c85f4",
   "metadata": {
    "scrolled": false
   },
   "outputs": [],
   "source": [
    "\n"
   ]
  },
  {
   "cell_type": "code",
   "execution_count": 20,
   "id": "eca1d7e5",
   "metadata": {},
   "outputs": [],
   "source": []
  },
  {
   "cell_type": "code",
   "execution_count": 22,
   "id": "6162aaef",
   "metadata": {
    "scrolled": false
   },
   "outputs": [],
   "source": [
    "save_list(df, 'data/temp_list.pkl')"
   ]
  },
  {
   "cell_type": "code",
   "execution_count": null,
   "id": "9f0dd71e",
   "metadata": {},
   "outputs": [],
   "source": [
    "# data[0]"
   ]
  },
  {
   "cell_type": "code",
   "execution_count": 23,
   "id": "4cabebcb",
   "metadata": {},
   "outputs": [],
   "source": []
  },
  {
   "cell_type": "code",
   "execution_count": null,
   "id": "561f7545",
   "metadata": {},
   "outputs": [],
   "source": []
  },
  {
   "cell_type": "code",
   "execution_count": null,
   "id": "5dce07b2",
   "metadata": {},
   "outputs": [],
   "source": []
  }
 ],
 "metadata": {
  "kernelspec": {
   "display_name": "Python 3 (ipykernel)",
   "language": "python",
   "name": "python3"
  },
  "language_info": {
   "codemirror_mode": {
    "name": "ipython",
    "version": 3
   },
   "file_extension": ".py",
   "mimetype": "text/x-python",
   "name": "python",
   "nbconvert_exporter": "python",
   "pygments_lexer": "ipython3",
   "version": "3.9.12"
  }
 },
 "nbformat": 4,
 "nbformat_minor": 5
}
